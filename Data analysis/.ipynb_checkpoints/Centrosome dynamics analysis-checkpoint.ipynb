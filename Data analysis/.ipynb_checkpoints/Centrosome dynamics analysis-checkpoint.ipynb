{
 "cells": [
  {
   "cell_type": "markdown",
   "id": "b96017b6",
   "metadata": {},
   "source": [
    "## Centrosome dynamics analysis\n",
    "This notebook consists of several APIs to analyze and generate graphs for the general centrosome dynamics analysis. It's a very abridged guide so please contact isaacwongsiushing@gmail.com if any question arises."
   ]
  },
  {
   "cell_type": "markdown",
   "id": "ad3c0576",
   "metadata": {},
   "source": [
    "#### 1. Pre-processing raw spinning disk microscopy videos\n",
    "**Step 1** performs an exponential decay correction for photobleaching, a uneven illumination background correction, and a maximum intensity projection for all videos in a directory. The videos must be in **.tif** format \n"
   ]
  },
  {
   "cell_type": "code",
   "execution_count": null,
   "id": "c56d37ca",
   "metadata": {},
   "outputs": [],
   "source": [
    "from centropy.io import video\n"
   ]
  },
  {
   "cell_type": "code",
   "execution_count": null,
   "id": "994bf92b",
   "metadata": {},
   "outputs": [],
   "source": [
    "input_dir = \"/Users/isaacwong/Desktop/xxxx\"\n",
    "output_dir = \"/Users/isaacwong/Desktop/yyyy\"\n"
   ]
  },
  {
   "cell_type": "code",
   "execution_count": null,
   "id": "4f58ed7b",
   "metadata": {
    "scrolled": true
   },
   "outputs": [],
   "source": [
    "video.batch_process_videos(input_dir, output_dir, processed=False) # processed indicate if the movies had been processed\n"
   ]
  },
  {
   "cell_type": "markdown",
   "id": "2f34f329",
   "metadata": {},
   "source": [
    "**Step 1** produce a folder structure that contains processed videos and a spreadsheet comprising the details of the image preprocessing called **videos.csv**.\n",
    "\n",
    "Then, users need to track centrosomes using TrackMate plugin in Fiji and save the results using a default filename called **Spots in tracks statistics.csv** in the same folder as its corresponding processed video. For proteins other than Cnn and clients, users may consider using TrackPy (see **Step 2**).\n",
    "\n",
    "The tutorial of TrackMate can be found in https://youtu.be/SvdfWLIsCQk. \n"
   ]
  },
  {
   "cell_type": "markdown",
   "id": "0bd83a99",
   "metadata": {},
   "source": [
    "#### 2. Extraction of features from centrosomes\n",
    "Users are expected to have run **Step 1** so that **videos.csv** can be called by the programme. They need to ensure in **videos.csv** the column named **analyze** has **yes** for the videos they would like to analyze. They need to indicate the tracking programme used using **tracking_program** which can either be **TrackMate** or **TrackPy**. The programme also applies different quantifications on centrosomes for example measuring the total intensity within segmented area if the option **get_patch** is set to **True** and **patch_method** is set to **otsu**. If **get_pedigree** is set to **True**, the program will also try to map out if the centrosome is an old mother or a new mother. The distance (in unit of pixel) between old mothers and new mothers must be within **max_pairing_distance**.\n",
    "\n",
    "If the tracking was done based on physical unit e.g. um, **convert_dim** must set to **True** and **pix_scale** must have a value that maps from physical unit to pixel unit."
   ]
  },
  {
   "cell_type": "code",
   "execution_count": null,
   "id": "95121f3c",
   "metadata": {},
   "outputs": [],
   "source": [
    "from centropy.analysis import dynamics\n"
   ]
  },
  {
   "cell_type": "code",
   "execution_count": null,
   "id": "9a704083",
   "metadata": {},
   "outputs": [],
   "source": [
    "# The input_dir should contain videos.csv after step 1\n",
    "input_dir = \"/Users/isaacwong/Desktop/xxxx\"\n"
   ]
  },
  {
   "cell_type": "code",
   "execution_count": null,
   "id": "6e64bf20",
   "metadata": {},
   "outputs": [],
   "source": [
    "# The keyword and corresponding input can be found in the centropy package and manual\n",
    "dynamics.batch_centrosomes(input_dir, None, tracking_program='TrackMate', main_channel=0, window_size=[14, 14], \n",
    "                           frame_rate=0.5, get_patch=True, patch_method='otsu', get_pedigree=True, max_pairing_distance=50, \n",
    "                           convert_dim=False, pix_scale=0.11)\n"
   ]
  },
  {
   "cell_type": "markdown",
   "id": "104f6e47",
   "metadata": {},
   "source": [
    "**Step 2** reads the **Spots in track statistics.csv** and maps the coordiates of centrosomes in videos. The quantifications is saved as **centrosomes.csv** which is located in the same folder as **videos.csv**. The relationship between centrosomes is saved in **pedigree.csv** as centrosomes.csv"
   ]
  },
  {
   "cell_type": "markdown",
   "id": "fe3e944d",
   "metadata": {},
   "source": [
    "#### 3. Parameterization of centrosome dynamics by curve fitting\n",
    "Users are expected to have run **Step 1** and **Step 2** so that **videos.csv** and **centrosomes.csv** can be called by the programme. They also need to ensure in **videos.csv** the column named **analyze** has **yes** for the videos they would like to analyze.\n",
    "\n",
    "They need to look for the column named **model_intensity_all** to choose the curve used to fit into the dynamics for example linear, linear_plateau, linear_piecewise, and single_oscillation. The column named **model_intensity_init** can be used to adjust the initial guess of the fitting which may improve the fitting. The default value of **model_intensity_init** is **_** which means using the default initial condition. Users may also add a new column named **start_end** to limit the region of fitting.\n",
    "\n",
    "To analyze old mother and new mother dynamics, they need to create a new column in the spreadsheet with the name **model_intensity_om** and **model_intensity_nm** for the intensity of old mothers and new mothers respectively. "
   ]
  },
  {
   "cell_type": "code",
   "execution_count": null,
   "id": "7d4b4949",
   "metadata": {},
   "outputs": [],
   "source": [
    "from centropy.regression import single_cycle\n"
   ]
  },
  {
   "cell_type": "code",
   "execution_count": null,
   "id": "31393052",
   "metadata": {},
   "outputs": [],
   "source": [
    "input_dir = \"/Users/isaacwong/Desktop/xxxx\"\n"
   ]
  },
  {
   "cell_type": "code",
   "execution_count": null,
   "id": "f1c65e27",
   "metadata": {},
   "outputs": [],
   "source": [
    "single_cycle.batch_fitting(input_dir, None, frame_rate=0.5)\n"
   ]
  },
  {
   "cell_type": "markdown",
   "id": "7a2ba68b",
   "metadata": {},
   "source": [
    "This step generates **models.csv** in the same folder as **videos.csv**."
   ]
  },
  {
   "cell_type": "markdown",
   "id": "88a62989",
   "metadata": {},
   "source": [
    "#### 4. Previewing data by exploratory visualization\n",
    "Users are expected to have run **Step 1** to **Step 3** so that **videos.csv**, **centrosomes.csv**, **models.csv**, and **simulations.csv** can be called by the programme to generate graphs. They also need to ensure in **videos.csv** the column named **analyze** has **yes** for the videos to be included in the graphs. This step generates standard graphs for dynamics for exmaple line plots of certain attribute against time, categorical plot across experimental conditions, and correlation between different parameters"
   ]
  },
  {
   "cell_type": "code",
   "execution_count": null,
   "id": "fec52f5c",
   "metadata": {},
   "outputs": [],
   "source": [
    "from centropy.visualization import line, categorical, correlation\n"
   ]
  },
  {
   "cell_type": "code",
   "execution_count": null,
   "id": "78ab9043",
   "metadata": {},
   "outputs": [],
   "source": [
    "input_dir = \"/Users/isaacwong/Desktop/xxxx\"\n"
   ]
  },
  {
   "cell_type": "code",
   "execution_count": null,
   "id": "66acb0bd",
   "metadata": {},
   "outputs": [],
   "source": [
    "# Common parameters across different program\n",
    "comparison_type='cycle'\n",
    "frame_rate=0.5\n",
    "residue_threshold = 1\n",
    "\n",
    "# define the attribute and parameters to plot\n",
    "attribute_dict = { 'intensity': ['initial_m', 'peak_m', 'added_m','peak_time_m', 'increase_rate_m', \n",
    "                                 's-phase_duration'],}\n"
   ]
  },
  {
   "cell_type": "code",
   "execution_count": null,
   "id": "f13ac9d6",
   "metadata": {},
   "outputs": [],
   "source": [
    "# Overlay all embryos from the same conditions into the same graphs. Users can choose to align to centrosome separation\n",
    "# or NEB\n",
    "line.all_embryos(input_dir, output_dir=None, comparison_type=comparison_type, \n",
    "                     attribute='total_intensity_norm', label_age=False, alignment='neb')\n"
   ]
  },
  {
   "cell_type": "code",
   "execution_count": null,
   "id": "2ec8a68a",
   "metadata": {
    "scrolled": true
   },
   "outputs": [],
   "source": [
    "# Plot all embryos separately to check the quality of fitting and also select the region of model fitting\n",
    "line.batch_individual_embryo(input_dir, output_dir=None, attribute='total_intensity_norm', label_age=True)\n"
   ]
  },
  {
   "cell_type": "code",
   "execution_count": null,
   "id": "ebc52e49",
   "metadata": {
    "scrolled": false
   },
   "outputs": [],
   "source": [
    "# Generate graphs of different parameters of an attribute across different conditions\n",
    "categorical.batch_box(input_dir, output_dir=None, comparison_type=comparison_type, \n",
    "                          attribute_dict=attribute_dict, between_type='age_type', frame_rate=frame_rate, \n",
    "                          residue_threshold=residue_threshold)\n"
   ]
  },
  {
   "cell_type": "code",
   "execution_count": null,
   "id": "ef0e6504",
   "metadata": {},
   "outputs": [],
   "source": [
    "# Generate pairwise comparison between different parameters of an attribute\n",
    "correlation.pairwise_scatter(input_dir, output_dir=None, comparison_type=comparison_type, \n",
    "                             attribute_dict=None, between_type=None, frame_rate=frame_rate, \n",
    "                             residue_threshold=residue_threshold)\n"
   ]
  },
  {
   "cell_type": "markdown",
   "id": "1bcb7368",
   "metadata": {},
   "source": [
    "#### 5. Statistical testing\n",
    "Users are expected to have run **Step 1** and **Step 3** so that **videos.csv** and **models.csv** can be called by the programme. They also need to ensure in **videos.csv** the column named **analyze** has **yes** for the videos they would like to analyze, column named **s-phase_duration** also needs to be filled, and provide a attribute_dict (see below). \n"
   ]
  },
  {
   "cell_type": "code",
   "execution_count": null,
   "id": "5ce8ce25",
   "metadata": {},
   "outputs": [],
   "source": [
    "from centropy.io import helper\n",
    "from centropy.statistics import summary, hypothesis_testing, correlation\n"
   ]
  },
  {
   "cell_type": "code",
   "execution_count": null,
   "id": "4fd45bfa",
   "metadata": {},
   "outputs": [],
   "source": [
    "input_dir = \"/Users/isaacwong/Desktop/xxxx\"\n"
   ]
  },
  {
   "cell_type": "code",
   "execution_count": null,
   "id": "aceda411",
   "metadata": {},
   "outputs": [],
   "source": [
    "# parameters\n",
    "comparison_type='manipulated_protein'\n",
    "control='Control'\n",
    "frame_rate=0.5\n",
    "label_age=False\n",
    "\n",
    "# define attribute and parameters for statistical testing\n",
    "attribute_dict = { 'intensity': ['initial_r', 'peak_r', 'added_r','peak_time_r', 'increase_rate_r', \n",
    "                                 's-phase_duration'],}\n"
   ]
  },
  {
   "cell_type": "code",
   "execution_count": null,
   "id": "17872553",
   "metadata": {},
   "outputs": [],
   "source": [
    "# Obtain a summary of the data e.g. mean, standard deviation, and a relative mean\n",
    "summary.batch_descriptive_stat(input_dir, output_dir=None, \n",
    "                               attribute_dict=attribute_dict, comparison_type=comparison_type, control=control, \n",
    "                               res_threshold=1, frame_rate=frame_rate, label_age=label_age)\n"
   ]
  },
  {
   "cell_type": "code",
   "execution_count": null,
   "id": "7a356c14",
   "metadata": {
    "scrolled": false
   },
   "outputs": [],
   "source": [
    "# Hypothesis testing of attribute and parameters in attribute_dict\n",
    "hypothesis_testing.batch_hypothesis_testing(input_dir, output_dir=None, \n",
    "                                            attribute_dict=attribute_dict, comparison_type=comparison_type, \n",
    "                                            between_type=None, res_threshold=1, frame_rate=frame_rate)"
   ]
  },
  {
   "cell_type": "code",
   "execution_count": null,
   "id": "7d9fd4ab",
   "metadata": {},
   "outputs": [],
   "source": [
    "# Testing the strength of correlation\n",
    "# pairwise_dict has a format of {attribute: [parameter1, parameter2, ...]}\n",
    "# Then the program will run correlation on any combination of parameters of a particular attribute.\n",
    "correlation.batch_correlation(input_dir, output_dir=None, \n",
    "                              pairwise_dict=attribute_dict, comparison_type=comparison, res_threshold=1, \n",
    "                              frame_rate=frame_rate, label_age=label_age)\n"
   ]
  },
  {
   "cell_type": "markdown",
   "id": "b4b0ef76",
   "metadata": {},
   "source": [
    "The output is a **correlations.csv** which is saved in a folder called **Statistics** under a folder called **Figures**."
   ]
  },
  {
   "cell_type": "code",
   "execution_count": null,
   "id": "6437e12e",
   "metadata": {},
   "outputs": [],
   "source": []
  }
 ],
 "metadata": {
  "kernelspec": {
   "display_name": "Python [conda env:centrosome] *",
   "language": "python",
   "name": "conda-env-centrosome-py"
  },
  "language_info": {
   "codemirror_mode": {
    "name": "ipython",
    "version": 3
   },
   "file_extension": ".py",
   "mimetype": "text/x-python",
   "name": "python",
   "nbconvert_exporter": "python",
   "pygments_lexer": "ipython3",
   "version": "3.7.7"
  }
 },
 "nbformat": 4,
 "nbformat_minor": 5
}
