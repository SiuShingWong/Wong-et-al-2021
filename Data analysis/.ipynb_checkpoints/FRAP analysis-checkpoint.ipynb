{
 "cells": [
  {
   "cell_type": "markdown",
   "id": "ff60654f",
   "metadata": {},
   "source": [
    "## FRAP analysis\n",
    "This notebook consists of several APIs to analyze and generate graphs for FRAP studies. It's a very abridged guide so please contact isaacwongsiushing@gmail.com if any question arises."
   ]
  },
  {
   "cell_type": "markdown",
   "id": "0161b373",
   "metadata": {},
   "source": [
    "#### 1. Pre-process raw spinning disk microscopy videos\n",
    "Step 1 performs an exponential decay correction for photobleaching, a uneven illumination background correction, and a maximum intensity projection for all videos in a directory. The videos must be in **.tif** format \n"
   ]
  },
  {
   "cell_type": "code",
   "execution_count": null,
   "id": "b547988a",
   "metadata": {},
   "outputs": [],
   "source": [
    "from centropy.io import video\n"
   ]
  },
  {
   "cell_type": "code",
   "execution_count": null,
   "id": "318900c4",
   "metadata": {},
   "outputs": [],
   "source": [
    "input_dir = \"/Users/isaacwong/Desktop/xxxx\"\n",
    "output_dir = \"/Users/isaacwong/Desktop/yyyy\"\n"
   ]
  },
  {
   "cell_type": "code",
   "execution_count": null,
   "id": "e363ac85",
   "metadata": {},
   "outputs": [],
   "source": [
    "video.batch_process_videos(input_dir, output_dir, processed=False) # processed indicate if the movies had been processed\n"
   ]
  },
  {
   "cell_type": "markdown",
   "id": "1aa858b3",
   "metadata": {},
   "source": [
    "Step 1 will produce the folder structure that contains processed videos and a spreadsheet comprising the details of the image preprocessing called **videos.csv**."
   ]
  },
  {
   "cell_type": "markdown",
   "id": "84c29f59",
   "metadata": {},
   "source": [
    "#### 2. Frame-by-frame annotation of FRAPed centrosomes\n",
    "This step generates an **.avi** file for each processed video located in the same folder encapsulated by a folder named **label**. Users are expected to have run **Step 1** so that **videos.csv** can be called by the programme. They need to ensure in **videos.csv** the column named **analyze** has **yes** for the videos they would like to analyze, and the column named **avi_output** has **general**.\n"
   ]
  },
  {
   "cell_type": "code",
   "execution_count": null,
   "id": "eefb7d76",
   "metadata": {},
   "outputs": [],
   "source": [
    "from centropy.io import avi"
   ]
  },
  {
   "cell_type": "code",
   "execution_count": null,
   "id": "6ad18fe9",
   "metadata": {},
   "outputs": [],
   "source": [
    "input_dir = \"/Users/isaacwong/Desktop/xxxx\"\n"
   ]
  },
  {
   "cell_type": "code",
   "execution_count": null,
   "id": "9509b7f1",
   "metadata": {},
   "outputs": [],
   "source": [
    "avi.batch_general_avi(input_dir, label_centrosome=False, clip_auto=[0.05, 0.05], color='green', window_size=28, output_dims='auto')\n"
   ]
  },
  {
   "cell_type": "markdown",
   "id": "e6e51dbd",
   "metadata": {},
   "source": [
    "After this step, users should install and run **Openlabeling** (https://github.com/Cartucho/OpenLabeling) with input and output (see Openlabeling manual) set to **label** directory. A new window of your video will pop up to allow the manual annotation of specific particles (in our case FRAPed object). **Openlabeling** will generate a few folders in **label** directory of the annotated video. Users should check if the folder contains a folder called **YOLO_darknet**. This will allow us to extract the coordinates of centrosomes for the next step. \n"
   ]
  },
  {
   "cell_type": "markdown",
   "id": "92944e80",
   "metadata": {},
   "source": [
    "#### 3. Extraction of features from FRAPed centrosomes\n",
    "Users are expected to have run **Step 1-2** so that **videos.csv** and **YOLO_darknet** can be called by the programme. They need to ensure in **videos.csv** the column named **analyze** has **yes** for the videos they would like to analyze.\n",
    "\n",
    "Users also need to provide a value (in unit of pixel) to **linking_distance** so that programme can link particles across frame, which have movied within **linking_distance**. The program also applies different quantifications on FRAPed particles as **batch_centrosomes** API mentioned in **Centrosome dynamics analysis** notebook. The **patch_methold** here is set to **yolo** meaning that the program will extract the coordinates and the bounding boxes of particles annotated by uses in the previous step.\n"
   ]
  },
  {
   "cell_type": "code",
   "execution_count": null,
   "id": "61dd6cfd",
   "metadata": {},
   "outputs": [],
   "source": [
    "from centropy.analysis import manual\n"
   ]
  },
  {
   "cell_type": "code",
   "execution_count": null,
   "id": "0c529388",
   "metadata": {},
   "outputs": [],
   "source": [
    "input_dir = \"/Users/isaacwong/Desktop/xxxx\"\n"
   ]
  },
  {
   "cell_type": "code",
   "execution_count": null,
   "id": "6ccba0bc",
   "metadata": {},
   "outputs": [],
   "source": [
    "manual.batch_manual(input_dir, output_dir=None, main_channel=0, window_size=[10, 10], frame_rate=0.5, \n",
    "                    linking_distance=50, get_patch=True, patch_method='yolo', pix_scale=0.11)\n"
   ]
  },
  {
   "cell_type": "markdown",
   "id": "a922ff4f",
   "metadata": {},
   "source": [
    "The quantifications is saved as **manual.csv** which is located in the same folder as **videos.csv**."
   ]
  },
  {
   "cell_type": "code",
   "execution_count": null,
   "id": "c2f4146b",
   "metadata": {},
   "outputs": [],
   "source": []
  }
 ],
 "metadata": {
  "kernelspec": {
   "display_name": "Python [conda env:centrosome] *",
   "language": "python",
   "name": "conda-env-centrosome-py"
  },
  "language_info": {
   "codemirror_mode": {
    "name": "ipython",
    "version": 3
   },
   "file_extension": ".py",
   "mimetype": "text/x-python",
   "name": "python",
   "nbconvert_exporter": "python",
   "pygments_lexer": "ipython3",
   "version": "3.7.7"
  }
 },
 "nbformat": 4,
 "nbformat_minor": 5
}
